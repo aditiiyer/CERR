{
 "cells": [
  {
   "cell_type": "markdown",
   "id": "f007e408-d489-4152-9cef-dd96bbc7bfc3",
   "metadata": {},
   "source": [
    "[![Open In SageMaker Studio Lab](https://studiolab.sagemaker.aws/studiolab.svg)](https://studiolab.sagemaker.aws/import/github/<PATH_TO_YOUR_NOTEBOOK_ON_GITHUB>)"
   ]
  },
  {
   "cell_type": "markdown",
   "id": "b3a8eacc-c087-4591-81a0-392f784b72b3",
   "metadata": {
    "tags": []
   },
   "source": [
    "## Create an environment with Octave, CERR and related dependencies"
   ]
  },
  {
   "cell_type": "code",
   "execution_count": null,
   "id": "671cd5e6-f3e9-422d-99d0-38e77710a83d",
   "metadata": {
    "tags": []
   },
   "outputs": [],
   "source": [
    "%%bash\n",
    "conda create -n cerrx\n",
    "conda activate cerrx\n",
    "conda install -y -c conda-forge octave oct2py octave_kernel=0.33.1 jupyterlab gxx cxx-compiler matplotlib \n",
    "conda install -y -c anaconda ipywidgets \n",
    "cd /home/studio-lab-user\n",
    "git clone --single-branch --branch octave_dev https://www.github.com/cerr/CERR.git\n"
   ]
  },
  {
   "cell_type": "markdown",
   "id": "28b6f426-faae-4c09-9207-aa7bc48253c8",
   "metadata": {
    "tags": []
   },
   "source": [
    "## Install Octave packages (equivalent to Matlab toolboxes)"
   ]
  },
  {
   "cell_type": "code",
   "execution_count": null,
   "id": "0285210f-842a-4e8c-8798-96b4ed5fa099",
   "metadata": {},
   "outputs": [],
   "source": [
    "%%octave\n",
    "pkg install -forge image\n",
    "pkg install -forge io\n",
    "pkg install -forge statistics\n",
    "pkg install https://gitlab.com/mtmiller/octave-pythonic/-/archive/v0.0.1/octave-pythonic-v0.0.1.tar.gz\n",
    "pkg list"
   ]
  },
  {
   "cell_type": "code",
   "execution_count": null,
   "id": "48786722-20dd-42bb-96a8-f317c7a2bcd4",
   "metadata": {},
   "outputs": [],
   "source": [
    "%load_ext oct2py.ipython"
   ]
  },
  {
   "cell_type": "markdown",
   "id": "68943c58-5ec0-449c-a2de-a9333bb54132",
   "metadata": {},
   "source": [
    "## Add CERR to Octave path"
   ]
  },
  {
   "cell_type": "code",
   "execution_count": 61,
   "id": "8f916350-1646-4007-ab0f-2ab440ab92ae",
   "metadata": {},
   "outputs": [
    {
     "data": {
      "text/plain": [
       "Adding to path ... /home/studio-lab-user/CERR/CERR_Data_Extraction"
      ]
     },
     "metadata": {},
     "output_type": "display_data"
    },
    {
     "data": {
      "text/plain": [
       "Adding to path ... /home/studio-lab-user/CERR/CERR_core"
      ]
     },
     "metadata": {},
     "output_type": "display_data"
    },
    {
     "data": {
      "text/plain": [
       "Adding to path ... /home/studio-lab-user/CERR/IMRTP"
      ]
     },
     "metadata": {},
     "output_type": "display_data"
    },
    {
     "data": {
      "text/plain": [
       "Adding to path ... /home/studio-lab-user/CERR/Jupyter_Notebooks"
      ]
     },
     "metadata": {},
     "output_type": "display_data"
    },
    {
     "data": {
      "text/plain": [
       "Adding to path ... /home/studio-lab-user/CERR/ML_Dicom"
      ]
     },
     "metadata": {},
     "output_type": "display_data"
    },
    {
     "data": {
      "text/plain": [
       "Adding to path ... /home/studio-lab-user/CERR/Python_packages"
      ]
     },
     "metadata": {},
     "output_type": "display_data"
    },
    {
     "data": {
      "text/plain": [
       "Adding to path ... /home/studio-lab-user/CERR/Unit_Testing"
      ]
     },
     "metadata": {},
     "output_type": "display_data"
    }
   ],
   "source": [
    "%%octave -t /home/studio-lab-user/oct2py_io\n",
    "pkg load image\n",
    "pkg load io\n",
    "pkg load statistics\n",
    "pkg load pythonic\n",
    "cerrPath = '/home/studio-lab-user/CERR';\n",
    "cd(cerrPath)\n",
    "addToPath2(cerrPath)"
   ]
  },
  {
   "cell_type": "markdown",
   "id": "eedf8dc0-06f8-4fb0-a3b6-e6fc9cbb78b6",
   "metadata": {},
   "source": [
    "## Load planC from file"
   ]
  },
  {
   "cell_type": "code",
   "execution_count": 62,
   "id": "d8abd82f-3848-4f43-a5e9-b607e2b11f4e",
   "metadata": {},
   "outputs": [
    {
     "data": {
      "text/plain": [
       "cerrFileName = /home/studio-lab-user/CERR/Unit_Testing/data_for_cerr_tests/CERR_plans/lung_ex1_20may03.mat.bz2"
      ]
     },
     "metadata": {},
     "output_type": "display_data"
    },
    {
     "data": {
      "text/plain": [
       "CERR>>  Decompressing lung_ex1_20may03.mat.bz2..."
      ]
     },
     "metadata": {},
     "output_type": "display_data"
    },
    {
     "data": {
      "text/plain": []
     },
     "metadata": {},
     "output_type": "display_data"
    },
    {
     "data": {
      "text/plain": [
       "ans = 0"
      ]
     },
     "metadata": {},
     "output_type": "display_data"
    },
    {
     "data": {
      "text/plain": [
       "CERR>>  Loading lung_ex1_20may03.mat.bz2..."
      ]
     },
     "metadata": {},
     "output_type": "display_data"
    },
    {
     "data": {
      "text/plain": [
       "CERR>>  Loaded lung_ex1_20may03.mat.bz2..."
      ]
     },
     "metadata": {},
     "output_type": "display_data"
    }
   ],
   "source": [
    "%%octave -t /home/studio-lab-user/oct2py_io\n",
    "cerrFileName = fullfile(cerrPath,'Unit_Testing','data_for_cerr_tests', 'CERR_plans', 'lung_ex1_20may03.mat.bz2')\n",
    "planC = loadPlanC(cerrFileName,tempdir);\n"
   ]
  },
  {
   "cell_type": "markdown",
   "id": "561080b3-fa5f-4a9d-ad7a-4dce21ae7c7e",
   "metadata": {},
   "source": [
    "## Access scan volume and structures from planC"
   ]
  },
  {
   "cell_type": "code",
   "execution_count": 63,
   "id": "5f3d4cbc-f4f3-405f-b783-c0e556f5d814",
   "metadata": {},
   "outputs": [],
   "source": [
    "%%octave\n",
    "\n",
    "strNameC = {'HEART', 'LIVER', 'LUNG_CONTRA',...\n",
    "              'LUNG_IPSI', 'SPINAL_CORD', 'PTV1'};\n",
    "\n",
    "%Get scan array\n",
    "indexS = planC{end};\n",
    "scanNum = 1;\n",
    "ctOffset = planC{indexS.scan}(scanNum).scanInfo(1).CTOffset;\n",
    "scanArray = single(getScanArray(scanNum,planC)) - ctOffset;\n",
    "\n",
    "%Get structure labels & masks\n",
    "numStructs = length(planC{indexS.structures});\n",
    "structNameC = {planC{indexS.structures}.structureName};\n",
    "for strNum = 1:length(strNameC)\n",
    "    strx = strNameC{strNum};\n",
    "    idx = getMatchingIndex(strx,structNameC,'EXACT');\n",
    "    mask3M = getStrMask(idx, planC);\n",
    "    maskC{strNum} = mask3M;\n",
    "end"
   ]
  },
  {
   "cell_type": "code",
   "execution_count": 64,
   "id": "2de4cac0-b7a6-4a5b-a599-50caacde54d0",
   "metadata": {},
   "outputs": [],
   "source": [
    "%octave_pull maskC strNameC scanArray"
   ]
  },
  {
   "cell_type": "markdown",
   "id": "7fa06e39-530a-46b6-975c-146ea191454c",
   "metadata": {},
   "source": [
    "## Visualize scan and structures"
   ]
  },
  {
   "cell_type": "code",
   "execution_count": 65,
   "id": "fbf903ce-d5d0-458d-9ab5-b728e4324064",
   "metadata": {},
   "outputs": [
    {
     "data": {
      "application/vnd.jupyter.widget-view+json": {
       "model_id": "bb515b97a4d84c3abe973cf2c1ffc82f",
       "version_major": 2,
       "version_minor": 0
      },
      "text/plain": [
       "IntSlider(value=30, max=79, min=1)"
      ]
     },
     "metadata": {},
     "output_type": "display_data"
    },
    {
     "data": {
      "application/vnd.jupyter.widget-view+json": {
       "model_id": "2ca53956485a4cf29cdf54e673d8d850",
       "version_major": 2,
       "version_minor": 0
      },
      "text/plain": [
       "Output()"
      ]
     },
     "metadata": {},
     "output_type": "display_data"
    }
   ],
   "source": [
    "import matplotlib.pyplot as plt\n",
    "import numpy as np\n",
    "from IPython.display import clear_output\n",
    "import ipywidgets as widgets\n",
    "\n",
    "dx, dy = 1, 1\n",
    "\n",
    "x = np.arange(0, 255, dx)\n",
    "y = np.arange(0, 255, dy)\n",
    "extent = np.min(x), np.max(x), np.min(y), np.max(y)\n",
    "\n",
    "clear_output(wait=True)\n",
    "\n",
    "def window_image(image, window_center, window_width):\n",
    "    img_min = window_center - window_width // 2\n",
    "    img_max = window_center + window_width // 2\n",
    "    window_image = image.copy()\n",
    "    window_image[window_image < img_min] = img_min\n",
    "    window_image[window_image > img_max] = img_max\n",
    "    \n",
    "    return window_image\n",
    "\n",
    "def show_axial_slice(slcNum):\n",
    "    clear_output(wait=True)\n",
    "    print('Slice '+str(slcNum))\n",
    "    if 'fig' in locals():\n",
    "        fig.remove()\n",
    "    fig, ax = plt.subplots()\n",
    "    window_center = -500\n",
    "    window_width = 1500\n",
    "    windowed_img = window_image(scanArray[:,:,slcNum-1],\n",
    "                                window_center,window_width)\n",
    "    im1 = ax.imshow(windowed_img, cmap=plt.cm.gray, alpha=1,\n",
    "                    interpolation='nearest', extent=extent)\n",
    "    \n",
    "    cmaps = [plt.cm.YlOrBr.copy(),plt.cm.Oranges.copy(),plt.cm.YlGn.copy(),plt.cm.Blues.copy(), \\\n",
    "             plt.cm.Purples.copy(),plt.cm.Greens.copy()]\n",
    "\n",
    "    for maskNum in range(0,6,1):\n",
    "        mask_cmap = cmaps[maskNum]\n",
    "        mask_cmap.set_under('k', alpha=0)\n",
    "        im2 = ax.imshow(maskC[0,maskNum][:,:,slcNum-1], \n",
    "                        cmap=mask_cmap, alpha=.8, extent=extent,\n",
    "                        interpolation='none', clim=[0.5, 1])        \n",
    "    plt.show()\n",
    "\n",
    "slice_slider = widgets.IntSlider(value=30,min=1,max=79,step=1)\n",
    "outputSlc = widgets.Output()\n",
    "\n",
    "display(slice_slider, outputSlc)\n",
    "\n",
    "def update_slice(change):\n",
    "    with outputSlc:\n",
    "        show_axial_slice(change['new'])\n",
    "\n",
    "slice_slider.observe(update_slice, names='value')"
   ]
  }
 ],
 "metadata": {
  "kernelspec": {
   "display_name": "cerrx:Python",
   "language": "python",
   "name": "conda-env-cerrx-py"
  },
  "language_info": {
   "codemirror_mode": {
    "name": "ipython",
    "version": 3
   },
   "file_extension": ".py",
   "mimetype": "text/x-python",
   "name": "python",
   "nbconvert_exporter": "python",
   "pygments_lexer": "ipython3",
   "version": "3.9.9"
  }
 },
 "nbformat": 4,
 "nbformat_minor": 5
}
