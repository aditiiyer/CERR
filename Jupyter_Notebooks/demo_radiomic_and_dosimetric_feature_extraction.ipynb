{
  "nbformat": 4,
  "nbformat_minor": 0,
  "metadata": {
    "colab": {
      "name": "demo_radiomic_and_dosimetric_feature_extraction.ipynb",
      "provenance": [],
      "collapsed_sections": [],
      "toc_visible": true,
      "include_colab_link": true
    },
    "kernelspec": {
      "name": "python3",
      "display_name": "Python 3"
    }
  },
  "cells": [
    {
      "cell_type": "markdown",
      "metadata": {
        "id": "view-in-github",
        "colab_type": "text"
      },
      "source": [
        "<a href=\"https://colab.research.google.com/github/cerr/CERR/blob/octave_dev/Jupyter_Notebooks/demo_radiomic_and_dosimetric_feature_extraction.ipynb\" target=\"_parent\"><img src=\"https://colab.research.google.com/assets/colab-badge.svg\" alt=\"Open In Colab\"/></a>"
      ]
    },
    {
      "cell_type": "markdown",
      "metadata": {
        "id": "5N-G0tUkkNrN",
        "colab_type": "text"
      },
      "source": [
        "#  Example of radiomic & dosimetric feature calculation using CERR"
      ]
    },
    {
      "cell_type": "markdown",
      "metadata": {
        "id": "P6t1PtYSklan",
        "colab_type": "text"
      },
      "source": [
              "### Install latest Octave compile\n",
              "\n"
      ]
    },
    {
      "cell_type": "code",
      "metadata": {
        "id": "58KaG3O-iOYg",
        "colab_type": "code",
        "colab": {}
      },
      "source": [
      "%%capture\n",
              "! apt-get update\n",
              "! apt-get install gcc g++ gfortran make libblas-dev liblapack-dev libpcre3-dev \\\n",
              "libarpack2-dev libcurl4-gnutls-dev epstool libfftw3-dev transfig libfltk1.3-dev \\\n",
              "libfontconfig1-dev libfreetype6-dev libgl2ps-dev libglpk-dev libreadline-dev \\\n",
              "gnuplot-x11 libgraphicsmagick++1-dev libhdf5-serial-dev openjdk-8-jdk \\\n",
              "libsndfile1-dev llvm-dev lpr texinfo libgl1-mesa-dev libosmesa6-dev pstoedit \\\n",
              "portaudio19-dev libqhull-dev libqrupdate-dev libqscintilla2-dev \\\n",
              "libsuitesparse-dev texlive texlive-generic-recommended libxft-dev zlib1g-dev \\\n",
              "autoconf automake bison flex gperf gzip icoutils librsvg2-bin libtool perl \\\n",
              "rsync tar qtbase5-dev qttools5-dev qttools5-dev-tools libqscintilla2-qt5-dev \\\n",
              "wget git libsundials-dev gnuplot x11-apps"
      ],
      "execution_count": null,
      "outputs": []
    },
    {
         "cell_type": "code",
         "source": [
           "import os, urllib.request, json"
         ],
         "metadata": {
           "id": "SqBZHX0SR0JE"
         },
         "execution_count": null,
         "outputs": []
    },
    {
      "cell_type": "code",
      "source": [
        "# Download latest compiled octave package \n",
        "def get_octave(root_path):\n",
        "  os.chdir(root_path)\n",
        "  with urllib.request.urlopen(\"https://api.github.com/repos/cerr/octave-colab/releases/latest\") as url:\n",
        "      data = json.loads(url.read().decode())\n",
        "  fname = data['assets'][0]['name']\n",
        "  requrl = data['assets'][0]['browser_download_url']\n",
        "  urllib.request.urlretrieve(requrl, fname)\n",
        "  # Unzip, identify octave folder name\n",
        "  !tar xf {fname}\n",
        "  top_folder = !tar tf {fname} | head -1\n",
        "  octave_folder = top_folder[0][:-1]\n",
        "  octave_path = os.path.join(root_path,octave_folder)\n",
        "  return octave_path\n",
        "\n",
        "# Set path to Octave exectuable\n",
        "octave_path = get_octave('/content')\n",
        "os.environ['OCTAVE_EXECUTABLE'] = octave_path + '/bin/octave-cli'\n",
        "os.environ['PATH'] = octave_path + '/bin:' + os.environ['PATH']"
      ],
      "metadata": {
        "id": "-eLtWtgZRonx"
      },
      "execution_count": null,
      "outputs": []
    },
    {
      "cell_type": "markdown",
      "source": [
        "### Install Python-Octave bridge"
      ],
      "metadata": {
        "id": "B6QfdhCTVW2-"
      }
    },
    {
      "cell_type": "code",
      "source": [
        "%%capture\n",
        "! pip3 install octave_kernel\n",
        "! pip3 install oct2py==5.3.0\n",
        "\n",
        "%load_ext oct2py.ipython"
      ],
      "metadata": {
        "id": "eek7w41_VI8x"
      },
      "execution_count": null,
      "outputs": []
    }, 
    {
          "cell_type": "markdown",
          "source": [
            "### Install required Octave packages"
          ],
          "metadata": {
            "id": "B6QedhCTVX2-"
          }
    },
    {
      "cell_type": "code",
      "metadata": {
        "id": "6gxGsNOmYm97",
        "colab_type": "code",
        "colab": {}
      },
      "source": [
        "%%capture\n",
        "!octave --eval \"pkg install image-2.12.0.tar.gz\"\n",
        "!octave --eval \"pkg install io-2.6.1.tar.gz\"\n",
        "!octave --eval \"pkg install statistics-1.4.2.tar.gz\""
      ],
      "execution_count": null,
      "outputs": []
    },
    {
      "cell_type": "markdown",
      "metadata": {
        "id": "bo-i2uKqk_rB",
        "colab_type": "text"
      },
      "source": [
        "\n",
        "### Download CERR\n"
      ]
    },
    {
      "cell_type": "code",
      "metadata": {
        "id": "Al7QbpSThN9x",
        "colab_type": "code",
        "colab": {}
      },
      "source": [
        "%%capture\n",
        "!git clone https://github.com/cerr/CERR.git\n",
        "%cd /content/CERR\n",
        "!git checkout octave_dev\n",
        "%cd .."
      ],
      "execution_count": null,
      "outputs": []
    },
    {
      "cell_type": "markdown",
      "metadata": {
        "id": "B-nYrSGNlEzs",
        "colab_type": "text"
      },
      "source": [
        "### Add Octave packages and CERR to path"
      ]
    },
    {
      "cell_type": "code",
      "metadata": {
        "id": "453d72YCJ3CM",
        "colab_type": "code",
        "colab": {}
      },
      "source": [
        "%%octave\n",
        "pkg load image\n",
        "pkg load io\n",
        "pkg load statistics"
      ],
      "execution_count": null,
      "outputs": []
    },
    {
      "cell_type": "code",
      "metadata": {
        "id": "eAdvDWdRxY5v",
        "colab_type": "code",
        "colab": {
          "base_uri": "https://localhost:8080/",
          "height": 0
        },
        "outputId": "df76b7c5-99fd-42dd-9e3f-c51c97e40c89"
      },
      "source": [
        "#Add CERR-Octave to path\n",
        "%%octave\n",
        "cerrPath = '/content/CERR';\n",
        "addpath(genpath(cerrPath))"
      ],
      "execution_count": null,
      "outputs": []
    },
    {
      "cell_type": "markdown",
      "metadata": {
        "id": "C02qX1CzPITI",
        "colab_type": "text"
      },
      "source": [
        "### Read radiomics calculation settings"
      ]
    },
    {
      "cell_type": "code",
      "metadata": {
        "id": "XeQGonF2iWG3",
        "colab_type": "code",
        "colab": {
          "base_uri": "https://localhost:8080/",
          "height": 102
        },
        "outputId": "ed54799b-dbb9-405d-922d-4ea41d9314d5"
      },
      "source": [
        "%%octave\n",
        "sampleData = '/content/CERR/Unit_Testing/data_for_cerr_tests/CERR_plans/head_neck_ex1_20may03.mat.bz2';\n",
        "planC = loadPlanC(sampleData, tempdir);\n",
        "planC = updatePlanFields(planC);\n",
        "planC = quality_assure_planC(sampleData, planC);\n",
        "\n",
        "sampleParam = '/content/CERR/Jupyter_Notebooks/demoParams.json';\n",
        "paramS = getRadiomicsParamTemplate(sampleParam);"
      ],
      "execution_count": null,
      "outputs": []
    },
    {
      "cell_type": "markdown",
      "metadata": {
        "id": "E_iqpNT1PQXg",
        "colab_type": "text"
      },
      "source": [
        "### Run feature calculation"
      ]
    },
    {
      "cell_type": "code",
      "metadata": {
        "id": "Qgh5cXA0jGWJ",
        "colab_type": "code",
        "colab": {}
      },
      "source": [
        "%%octave\n",
        "indexS = planC{end};\n",
        "strC = {planC{indexS.structures}.structureName};\n",
        "strName = paramS.structuresC{1};\n",
        "structNum = getMatchingIndex(strName,strC,'exact');\n",
        "scanNum = getStructureAssociatedScan(structNum,planC);\n",
        "doseNum = 1;\n",
        "binWidth = 0.01;\n",
        "\n",
        "structFieldName = ['struct_',repSpaceHyp(strName)];"
      ],
      "execution_count": null,
      "outputs": []
    },
    {
      "cell_type": "code",
      "metadata": {
        "id": "k7zWFK_j27Je",
        "colab_type": "code",
        "colab": {}
      },
      "source": [
        "%%capture\n",
        "%%octave\n",
        "\n",
        "%% Compute radiomic features\n",
        "radiomicsFeatS = calcGlobalRadiomicsFeatures...\n",
        "(scanNum, structNum, paramS, planC);\n",
        "\n",
        "%% Compute DVH-based features\n",
        "[doseV,volV] = getDVH(structNum,doseNum,planC);\n",
        "[doseBinsV,volHistV] = doseHist(doseV,volV,binWidth);\n",
        "dvhFeatS.meanDose = calc_meanDose(doseBinsV, volHistV);\n",
        "dvhFeatS.d10 = calc_Dx(doseBinsV, volHistV, 10, 1);\n",
        "dvhFeatS.v30 = calc_Vx(doseBinsV, volHistV, 30, 0);\n",
        "dvhFeatS.MOH55 = calc_MOHx(doseBinsV, volHistV, 55);"
      ],
      "execution_count": null,
      "outputs": []
    },
    {
      "cell_type": "markdown",
      "metadata": {
        "id": "2H_9ryjxZ2QU",
        "colab_type": "text"
      },
      "source": [
        "### Make computed features available in Python \n"
      ]
    },
    {
      "cell_type": "code",
      "metadata": {
        "id": "jqL8hpdfzyQT",
        "colab_type": "code",
        "colab": {
          "base_uri": "https://localhost:8080/",
          "height": 71
        },
        "outputId": "43d181e1-7349-42f4-90a4-7db579c2697e"
      },
      "source": [
        "from oct2py import octave\n",
        "\n",
        "%octave_pull radiomicsFeatS dvhFeatS\n",
        "print(radiomicsFeatS['shapeS'])\n",
        "print(dvhFeatS)"
      ],
      "execution_count": null,
      "outputs": []
    }
  ]
}
