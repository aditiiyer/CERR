{
  "nbformat": 4,
  "nbformat_minor": 0,
  "metadata": {
    "colab": {
      "name": "demo_OMT_distance_between_dose_distributions.ipynb",
      "provenance": [],
      "collapsed_sections": [],
      "toc_visible": true,
      "include_colab_link": true
    },
    "kernelspec": {
      "name": "python3",
      "display_name": "Python 3"
    },
    "language_info": {
      "name": "python"
    }
  },
  "cells": [
  {
        "cell_type": "markdown",
        "metadata": {
          "id": "view-in-github",
          "colab_type": "text"
        },
        "source": [
          "<a href=\"https://colab.research.google.com/github/cerr/CERR/blob/octave_dev/Jupyter_Notebooks/demo_OMT_distance_between_dose_distributions.ipynb\" target=\"_parent\"><img src=\"https://colab.research.google.com/assets/colab-badge.svg\" alt=\"Open In Colab\"/></a>"
        ]
    },
    {
      "cell_type": "markdown",
      "metadata": {
        "id": "F-lpukB4d11Z"
      },
      "source": [
        "\n",
        "Install Octave \n",
        "---\n",
        "\n"
      ]
    },
    {
      "cell_type": "code",
      "metadata": {
        "id": "3GEDdRgedmrk"
      },
      "source": [
        "%%capture \n",
        "!! apt-get update\n",
        "! apt-get install gcc g++ gfortran make libblas-dev liblapack-dev libpcre3-dev libarpack2-dev libcurl4-gnutls-dev epstool libfftw3-dev transfig libfltk1.3-dev libfontconfig1-dev libfreetype6-dev libgl2ps-dev libglpk-dev libreadline-dev gnuplot-x11 libgraphicsmagick++1-dev libhdf5-serial-dev openjdk-8-jdk libsndfile1-dev llvm-dev lpr texinfo libgl1-mesa-dev libosmesa6-dev pstoedit portaudio19-dev libqhull-dev libqrupdate-dev libqscintilla2-dev libsuitesparse-dev texlive texlive-generic-recommended libxft-dev zlib1g-dev autoconf automake bison flex gperf gzip icoutils librsvg2-bin libtool perl rsync tar qtbase5-dev qttools5-dev qttools5-dev-tools libqscintilla2-qt5-dev wget git libsundials-dev gnuplot x11-apps\n"
      ],
      "execution_count": null,
      "outputs": []
    },
    {
      "cell_type": "code",
      "metadata": {
        "id": "FoLtRmUUd872"
      },
      "source": [
        "%%capture\n",
        "%%bash\n",
        "LOCATION=$(curl -s https://api.github.com/repos/cerr/octave-colab/tags \\\n",
        "| grep \"name\" | tail -n 1 \\\n",
        "| awk '{print \"https://github.com/cerr/octave-colab/archive/\" substr($2, 2, length($2)-3) \".zip\"}') \\\n",
        "; curl -L -o octavecolab.zip $LOCATION\n",
        "\n",
        "unzip octavecolab.zip -d octavecolab\n",
        "releaseDir=$(ls octavecolab)\n",
        "tar xzvf \"octavecolab/${releaseDir}/octavecolab.tar.gz\""
      ],
      "execution_count": null,
      "outputs": []
    },
    {
      "cell_type": "code",
      "metadata": {
        "id": "gazqhGEmd_IY"
      },
      "source": [
        "import os\n",
        "os.environ['OCTAVE_EXECUTABLE'] = '/content/octavecolab/bin/octave-cli'\n",
        "os.environ['PATH'] = '/content/octavecolab/bin:' + os.environ['PATH']"
      ],
      "execution_count": null,
      "outputs": []
    },
    {
      "cell_type": "markdown",
      "metadata": {
        "id": "EmKpVMvaoewA"
      },
      "source": [
        "## Install Oct2Py and required packages"
      ]
    },
    {
      "cell_type": "code",
      "metadata": {
        "id": "Jt3D8UjJeC7l"
      },
      "source": [
        "%%capture\n",
        "!pip3 install octave_kernel\n",
        "!pip3 install oct2py\n",
        "\n",
        "%load_ext oct2py.ipython\n",
        "\n",
        "!wget https://nchc.dl.sourceforge.net/project/octave/Octave%20Forge%20Packages/Individual%20Package%20Releases/image-2.12.0.tar.gz\n",
        "!wget https://nchc.dl.sourceforge.net/project/octave/Octave%20Forge%20Packages/Individual%20Package%20Releases/io-2.6.1.tar.gz\n",
        "!wget https://nchc.dl.sourceforge.net/project/octave/Octave%20Forge%20Packages/Individual%20Package%20Releases/statistics-1.4.2.tar.gz\n",
        "\n",
        "!octave --eval \"pkg install image-2.12.0.tar.gz\"\n",
        "!octave --eval \"pkg install io-2.6.1.tar.gz\"\n",
        "!octave --eval \"pkg install statistics-1.4.2.tar.gz\""
      ],
      "execution_count": null,
      "outputs": []
    },
    {
      "cell_type": "markdown",
      "metadata": {
        "id": "vwn3VKCKeMeo"
      },
      "source": [
        "## Download CERRx"
      ]
    },
    {
      "cell_type": "code",
      "metadata": {
        "id": "pK_746gleMOq"
      },
      "source": [
        "%%capture\n",
        "!git clone --single-branch --branch octave_dev https://www.github.com/cerr/CERR.git"
      ],
      "execution_count": null,
      "outputs": []
    },
    {
      "cell_type": "markdown",
      "metadata": {
        "id": "34thLpRQeYNe"
      },
      "source": [
        "## Sample OMT distance calculations"
      ]
    },
    {
      "cell_type": "code",
      "metadata": {
        "id": "utcBxQkgeOhj"
      },
      "source": [
        "%%capture\n",
        "from oct2py import octave\n",
        "\n",
        "octave.eval('pkg load image')\n",
        "octave.eval('pkg load io')\n",
        "octave.eval('pkg load statistics')\n",
        "octave.addpath(octave.genpath('/content/CERR'))"
      ],
      "execution_count": null,
      "outputs": []
    },
    {
      "cell_type": "code",
      "metadata": {
        "id": "wqt_F8kYeLCy"
      },
      "source": [
        "#Load sample data\n",
        "sampleData = '/content/CERR/Unit_Testing/data_for_cerr_tests/CERR_plans/' + \\\n",
        "             'lung_ex1_20may03.mat.bz2'\n",
        "\n",
        "%octave_push sampleData\n",
        "\n",
        "planC = octave.loadPlanC(sampleData,octave.tempdir());\n",
        "planC = octave.updatePlanFields(planC);\n",
        "planC = octave.quality_assure_planC(sampleData,planC);"
      ],
      "execution_count": null,
      "outputs": []
    },
    {
      "cell_type": "code",
      "metadata": {
        "id": "1k9lo2XmAXIj"
      },
      "source": [
        "# Example 1. Sanity check (distance between identical distributions)\n",
        "\n",
        "doseNum1 = 1;\n",
        "doseNum2 = 1;\n",
        "structNum = 3;\n",
        "gamma = 0.1;\n",
        "downsampleIndex = 1;\n",
        "\n",
        "dist1 = octave.calcOMTDoseDistance(doseNum1,doseNum2,structNum,gamma,downsampleIndex,planC);\n",
        "fprintf('OMT distance = ',dist1)"
      ],
      "execution_count": null,
      "outputs": []
    },
    {
      "cell_type": "code",
      "metadata": {
        "colab": {
          "base_uri": "https://localhost:8080/"
        },
        "id": "CBq4QwJ8e4gF",
        "outputId": "e9aa24c4-a204-4816-c14a-c20280bf04a4"
      },
      "source": [
        "# Example 2. Distance between two dose distributions in region of interest\n",
        "\n",
        "doseNum1 = 1;\n",
        "doseNum2 = 2;\n",
        "structNum = 3; #PTV\n",
        "gamma = 0.1;\n",
        "downsampleIndex = 1;\n",
        "\n",
        "dist1 = octave.calcOMTDoseDistance(doseNum1,doseNum2,structNum,gamma,downsampleIndex,planC);\n",
        "print(dist1)"
      ],
      "execution_count": null,
      "outputs": [
        {
          "output_type": "stream",
          "text": [
            "0.012116394947413286\n"
          ],
          "name": "stdout"
        }
      ]
    },
    {
      "cell_type": "code",
      "metadata": {
        "id": "Kyu3BB0b94Wk"
      },
      "source": [
        "from oct2py import octave\n",
        "%octave_push planC"
      ],
      "execution_count": null,
      "outputs": []
    },
    {
      "cell_type": "code",
      "metadata": {
        "id": "1DeafYyx_cNe"
      },
      "source": [
        "%%octave\n",
        "\n",
        "addpath(genpath('/content/CERR'));\n",
        "\n",
        "indexS = planC{end};\n",
        "scanType = 'normal';\n",
        "structNum = 3;\n",
        "doseNum1 = 1;\n",
        "doseNum2 = 2;\n",
        "scanNum = getStructureAssociatedScan(structNum,planC);\n",
        "scan3M = getScanArray(scanNum,planC);\n",
        " \n",
        "%Get dose arrays on CT grid\n",
        "dose1M = getDoseOnCT(doseNum1, scanNum, scanType, planC);\n",
        "dose2M = getDoseOnCT(doseNum2, scanNum, scanType, planC);\n",
        "\n",
        "% Crop doses\n",
        "struct3M = getStrMask(structNum,planC);\n",
        "[rMin,rMax,cMin,cMax,sMin,sMax] = compute_boundingbox(struct3M);\n",
        "dose1M(~struct3M) = 0;\n",
        "dose2M(~struct3M) = 0;\n",
        "dose1M = dose1M(rMin:rMax,cMin:cMax,sMin:sMax);\n",
        "dose2M = dose2M(rMin:rMax,cMin:cMax,sMin:sMax);"
      ],
      "execution_count": null,
      "outputs": []
    },
    {
      "cell_type": "code",
      "metadata": {
        "id": "UeLL9jdG_d_F"
      },
      "source": [
        "%octave_pull dose1M dose2M scan3M"
      ],
      "execution_count": null,
      "outputs": []
    }
  ]
}
